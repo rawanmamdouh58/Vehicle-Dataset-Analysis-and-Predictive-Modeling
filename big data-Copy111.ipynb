{
 "cells": [
  {
   "cell_type": "code",
   "execution_count": 1,
   "id": "4047bb64-2d5f-46b9-97f0-a4241ee2f9a2",
   "metadata": {},
   "outputs": [
    {
     "ename": "ModuleNotFoundError",
     "evalue": "No module named 'pyspark'",
     "output_type": "error",
     "traceback": [
      "\u001b[1;31m---------------------------------------------------------------------------\u001b[0m",
      "\u001b[1;31mModuleNotFoundError\u001b[0m                       Traceback (most recent call last)",
      "Cell \u001b[1;32mIn[1], line 1\u001b[0m\n\u001b[1;32m----> 1\u001b[0m \u001b[38;5;28;01mfrom\u001b[39;00m \u001b[38;5;21;01mpyspark\u001b[39;00m\u001b[38;5;21;01m.\u001b[39;00m\u001b[38;5;21;01msql\u001b[39;00m \u001b[38;5;28;01mimport\u001b[39;00m SparkSession\n\u001b[0;32m      2\u001b[0m \u001b[38;5;28;01mfrom\u001b[39;00m \u001b[38;5;21;01mpyspark\u001b[39;00m\u001b[38;5;21;01m.\u001b[39;00m\u001b[38;5;21;01msql\u001b[39;00m\u001b[38;5;21;01m.\u001b[39;00m\u001b[38;5;21;01mfunctions\u001b[39;00m \u001b[38;5;28;01mimport\u001b[39;00m col\n\u001b[0;32m      3\u001b[0m \u001b[38;5;28;01mfrom\u001b[39;00m \u001b[38;5;21;01mpyspark\u001b[39;00m\u001b[38;5;21;01m.\u001b[39;00m\u001b[38;5;21;01mml\u001b[39;00m\u001b[38;5;21;01m.\u001b[39;00m\u001b[38;5;21;01mfeature\u001b[39;00m \u001b[38;5;28;01mimport\u001b[39;00m StandardScaler\n",
      "\u001b[1;31mModuleNotFoundError\u001b[0m: No module named 'pyspark'"
     ]
    }
   ],
   "source": [
    "from pyspark.sql import SparkSession\n",
    "from pyspark.sql.functions import col\n",
    "from pyspark.ml.feature import StandardScaler\n",
    "from pyspark.ml.linalg import Vectors\n",
    "from pyspark.ml.feature import VectorAssembler\n",
    "import matplotlib.pyplot as plt\n",
    "import seaborn as sns\n",
    "from pyspark.ml.feature import StringIndexer\n",
    "import matplotlib.pyplot as plt\n",
    "from imblearn.over_sampling import SMOTE"
   ]
  },
  {
   "cell_type": "code",
   "execution_count": null,
   "id": "141cbf6f-0232-4a26-a39c-1eeb2751ce6b",
   "metadata": {},
   "outputs": [],
   "source": [
    "from pyspark.sql import SparkSession\n",
    "\n"
   ]
  },
  {
   "cell_type": "code",
   "execution_count": null,
   "id": "fb58eacd-18b9-43fa-b7b0-581472194203",
   "metadata": {},
   "outputs": [],
   "source": [
    "# Create a SparkSession\n",
    "spark = SparkSession.builder.getOrCreate()\n",
    "\n"
   ]
  },
  {
   "cell_type": "code",
   "execution_count": 695,
   "id": "311f41eb-caff-4074-8bb0-25d947c8cf32",
   "metadata": {},
   "outputs": [],
   "source": [
    "dataset_path = \"C:/Users/AlDawlia/Desktop/fueltype.csv\"\n",
    "df = spark.read.csv(dataset_path, header=True, inferSchema=True)"
   ]
  },
  {
   "cell_type": "code",
   "execution_count": 696,
   "id": "84d75d5f-1a51-464a-9239-2f37e8381f7e",
   "metadata": {},
   "outputs": [
    {
     "data": {
      "text/plain": [
       "DataFrame[_c0: int, brand: string, name: string, bodyType: string, year: int, transmission: string, power: int, fuelType: string]"
      ]
     },
     "execution_count": 696,
     "metadata": {},
     "output_type": "execute_result"
    }
   ],
   "source": [
    "df"
   ]
  },
  {
   "cell_type": "code",
   "execution_count": 697,
   "id": "a1f6304a-d2df-4a16-a40a-36c46943fda0",
   "metadata": {},
   "outputs": [],
   "source": [
    "df = df.select(\"brand\", \"bodyType\", \"year\", \"transmission\", \"power\", \"fuelType\")"
   ]
  },
  {
   "cell_type": "code",
   "execution_count": null,
   "id": "c4ca0515-1721-4d78-9653-84faf65593a0",
   "metadata": {},
   "outputs": [],
   "source": []
  },
  {
   "cell_type": "code",
   "execution_count": 698,
   "id": "146a140a-1056-4522-b264-065e1eb822e3",
   "metadata": {},
   "outputs": [
    {
     "data": {
      "text/plain": [
       "DataFrame[brand: string, bodyType: string, year: int, transmission: string, power: int, fuelType: string]"
      ]
     },
     "execution_count": 698,
     "metadata": {},
     "output_type": "execute_result"
    }
   ],
   "source": [
    "df"
   ]
  },
  {
   "cell_type": "code",
   "execution_count": 699,
   "id": "c61045a8-e478-4b23-832b-0c9ca7cc46b8",
   "metadata": {},
   "outputs": [
    {
     "name": "stdout",
     "output_type": "stream",
     "text": [
      "Data Types:\n",
      "root\n",
      " |-- brand: string (nullable = true)\n",
      " |-- bodyType: string (nullable = true)\n",
      " |-- year: integer (nullable = true)\n",
      " |-- transmission: string (nullable = true)\n",
      " |-- power: integer (nullable = true)\n",
      " |-- fuelType: string (nullable = true)\n",
      "\n"
     ]
    }
   ],
   "source": [
    "#preprocessing\n",
    "print(\"Data Types:\")\n",
    "df.printSchema()"
   ]
  },
  {
   "cell_type": "code",
   "execution_count": 700,
   "id": "c0f8d601-aded-4c12-bd5e-21886832700b",
   "metadata": {},
   "outputs": [
    {
     "name": "stdout",
     "output_type": "stream",
     "text": [
      "Descriptive Statistics:\n",
      "+-------+-------+-------------+------------------+------------+------------------+--------+\n",
      "|summary|  brand|     bodyType|              year|transmission|             power|fuelType|\n",
      "+-------+-------+-------------+------------------+------------+------------------+--------+\n",
      "|  count|1048034|      1048034|            639362|     1042602|           1037869| 1043615|\n",
      "|   mean|   NULL|         NULL|2005.2700676611998|        NULL|158.68152242720421|    NULL|\n",
      "| stddev|   NULL|         NULL| 8.219179906978063|        NULL| 71.50729764432751|    NULL|\n",
      "|    min|  Acura|        coupe|              1953|          AT|                45|  Diesel|\n",
      "|    max|  Volvo|station wagon|              2021|       Robot|               650|Gasoline|\n",
      "+-------+-------+-------------+------------------+------------+------------------+--------+\n",
      "\n"
     ]
    }
   ],
   "source": [
    "print(\"Descriptive Statistics:\")\n",
    "df.describe().show()"
   ]
  },
  {
   "cell_type": "code",
   "execution_count": 701,
   "id": "a631c35c-8b24-43d2-a2d9-cfd208e64c7c",
   "metadata": {},
   "outputs": [],
   "source": [
    "from pyspark.sql.functions import isnan, count, when\n"
   ]
  },
  {
   "cell_type": "code",
   "execution_count": 702,
   "id": "3a58c9bf-5a15-4487-9cd5-c7d7db42e4b0",
   "metadata": {},
   "outputs": [
    {
     "name": "stdout",
     "output_type": "stream",
     "text": [
      "+-----+--------+------+------------+-----+--------+\n",
      "|brand|bodyType|  year|transmission|power|fuelType|\n",
      "+-----+--------+------+------------+-----+--------+\n",
      "|    0|       0|408672|        5432|10165|    4419|\n",
      "+-----+--------+------+------------+-----+--------+\n",
      "\n"
     ]
    }
   ],
   "source": [
    "# Count null values \n",
    "null_counts = df.select([count(when(isnan(c) | df[c].isNull(), c)).alias(c) for c in df.columns])\n",
    "\n",
    "null_counts.show()"
   ]
  },
  {
   "cell_type": "code",
   "execution_count": 703,
   "id": "bd01f5d1-1c7a-4463-974b-0e5537fc12bb",
   "metadata": {},
   "outputs": [
    {
     "name": "stdout",
     "output_type": "stream",
     "text": [
      "+----------+-----------------+----+------------+-----+--------+\n",
      "|     brand|         bodyType|year|transmission|power|fuelType|\n",
      "+----------+-----------------+----+------------+-----+--------+\n",
      "|    Toyota|     jeep 5 doors|1995|          AT|  130|  Diesel|\n",
      "|    Toyota|hatchback 5 doors|2019|         CVT|   95|Gasoline|\n",
      "|    Toyota|            sedan|2002|          AT|  160|Gasoline|\n",
      "|    Toyota|     jeep 5 doors|2010|          AT|  170|Gasoline|\n",
      "|    Hummer|     jeep 5 doors|2002|          AT|  315|Gasoline|\n",
      "|Mitsubishi|     jeep 5 doors|2005|         CVT|  170|Gasoline|\n",
      "|    Subaru|     jeep 5 doors|2015|         CVT|  150|Gasoline|\n",
      "|    Toyota|     jeep 5 doors|2000|          AT|  185|Gasoline|\n",
      "|    Subaru|hatchback 5 doors|2011|         CVT|  103|Gasoline|\n",
      "|    Toyota|     jeep 5 doors|2012|      Manual|  146|Gasoline|\n",
      "|Mitsubishi|     jeep 5 doors|2010|      Manual|  178|Gasoline|\n",
      "|     Lexus|     jeep 5 doors|2007|          AT|  383|Gasoline|\n",
      "|    Toyota|     jeep 3 doors|2005|          AT|  163|Gasoline|\n",
      "|     Isuzu|     jeep 5 doors|2000|          AT|  215|Gasoline|\n",
      "|    Toyota|     jeep 5 doors|2013|          AT|  163|Gasoline|\n",
      "|    Toyota|     jeep 5 doors|2003|          AT|  235|Gasoline|\n",
      "|Mitsubishi|     jeep 5 doors|2017|         CVT|  146|Gasoline|\n",
      "|     Honda|            sedan|2000|          AT|  148|Gasoline|\n",
      "|    Toyota|            sedan|1998|          AT|  135|Gasoline|\n",
      "|    Nissan|     jeep 5 doors|2009|          AT|  190|  Diesel|\n",
      "+----------+-----------------+----+------------+-----+--------+\n",
      "only showing top 20 rows\n",
      "\n"
     ]
    }
   ],
   "source": [
    "# Drop rows containing null\n",
    "df = df.na.drop()\n",
    "df.show()"
   ]
  },
  {
   "cell_type": "code",
   "execution_count": 704,
   "id": "f651f134-b71d-4161-963d-b16f953f843f",
   "metadata": {},
   "outputs": [
    {
     "name": "stdout",
     "output_type": "stream",
     "text": [
      "Test NaN:\n",
      "+-----+--------+----+------------+-----+--------+\n",
      "|brand|bodyType|year|transmission|power|fuelType|\n",
      "+-----+--------+----+------------+-----+--------+\n",
      "|    0|       0|   0|           0|    0|       0|\n",
      "+-----+--------+----+------------+-----+--------+\n",
      "\n"
     ]
    }
   ],
   "source": [
    "\n",
    "print(\"Test NaN:\")\n",
    "df.select([count(when(isnan(c) | df[c].isNull(), c)).alias(c) for c in df.columns]).show()"
   ]
  },
  {
   "cell_type": "code",
   "execution_count": null,
   "id": "62573eb7-30c7-4c0a-ad18-4e27f171c4f0",
   "metadata": {},
   "outputs": [],
   "source": []
  },
  {
   "cell_type": "code",
   "execution_count": 705,
   "id": "f507b137-d22d-428a-8612-5f31260690dd",
   "metadata": {},
   "outputs": [],
   "source": [
    "df = df.dropDuplicates()"
   ]
  },
  {
   "cell_type": "code",
   "execution_count": null,
   "id": "b22b4946-01d6-4f85-82d9-353f6ed9d521",
   "metadata": {},
   "outputs": [],
   "source": []
  },
  {
   "cell_type": "code",
   "execution_count": 706,
   "id": "a73b5730-767c-4232-b8d5-916d96ec9ddc",
   "metadata": {},
   "outputs": [
    {
     "name": "stdout",
     "output_type": "stream",
     "text": [
      "+----------+-----------------+----+------------+-----+--------+\n",
      "|     brand|         bodyType|year|transmission|power|fuelType|\n",
      "+----------+-----------------+----+------------+-----+--------+\n",
      "|     Honda|     jeep 5 doors|1997|          AT|  130|Gasoline|\n",
      "|    Toyota|     jeep 5 doors|2011|          AT|  160|Gasoline|\n",
      "|    Nissan|            sedan|2014|          AT|  102|Gasoline|\n",
      "|    Subaru|     jeep 5 doors|2012|         CVT|  150|Gasoline|\n",
      "| SsangYong|     jeep 5 doors|2007|          AT|  150|Gasoline|\n",
      "|    Toyota|     jeep 5 doors|2013|          AT|  163|Gasoline|\n",
      "|Mitsubishi|     jeep 5 doors|2015|          AT|  118|Gasoline|\n",
      "|     Lexus|     jeep 5 doors|2003|          AT|  230|Gasoline|\n",
      "|    Suzuki|     jeep 3 doors|2005|          AT|   64|Gasoline|\n",
      "|     Honda|            sedan|1999|          AT|  148|Gasoline|\n",
      "|    Subaru|    station wagon|1997|      Manual|  135|Gasoline|\n",
      "|    Subaru|    station wagon|2002|          AT|  260|Gasoline|\n",
      "|    Toyota|            sedan|1995|          AT|  135|Gasoline|\n",
      "|    Nissan|           pickup|1989|      Manual|   85|  Diesel|\n",
      "|    Toyota|     jeep 5 doors|2003|          AT|  249|Gasoline|\n",
      "|    Nissan|            sedan|2004|          AT|  280|Gasoline|\n",
      "|    Toyota|     jeep 5 doors|1989|          AT|  165|  Diesel|\n",
      "|    Toyota|            sedan|2010|         CVT|  105|Gasoline|\n",
      "|    Nissan|            sedan|1997|          AT|  200|Gasoline|\n",
      "|     Mazda|hatchback 5 doors|2008|          AT|   91|Gasoline|\n",
      "+----------+-----------------+----+------------+-----+--------+\n",
      "only showing top 20 rows\n",
      "\n"
     ]
    }
   ],
   "source": [
    "df.show()"
   ]
  },
  {
   "cell_type": "code",
   "execution_count": 707,
   "id": "5329822b-0393-44d4-8cc1-2e9a1e4101f5",
   "metadata": {},
   "outputs": [
    {
     "name": "stdout",
     "output_type": "stream",
     "text": [
      "Duplicates after dropping:\n",
      "+-----+--------+----+------------+-----+--------+-----+\n",
      "|brand|bodyType|year|transmission|power|fuelType|count|\n",
      "+-----+--------+----+------------+-----+--------+-----+\n",
      "+-----+--------+----+------------+-----+--------+-----+\n",
      "\n"
     ]
    }
   ],
   "source": [
    "print(\"Duplicates after dropping:\")\n",
    "df.select(df.columns).groupBy(df.columns).count().where(\"count > 1\").show()"
   ]
  },
  {
   "cell_type": "code",
   "execution_count": 708,
   "id": "ce6aad5d-e250-4cdc-ab3b-fa01171ee59b",
   "metadata": {},
   "outputs": [
    {
     "data": {
      "image/png": "[encoded data removed]",
      "text/plain": [
       "<Figure size 640x480 with 1 Axes>"
      ]
     },
     "metadata": {},
     "output_type": "display_data"
    }
   ],
   "source": [
    "import matplotlib.pyplot as plt\n",
    "import pandas as pd\n",
    "df_pandas = df.select('year').toPandas()\n",
    "\n",
    "# Plot histogram using matplotlib\n",
    "plt.hist(df_pandas['year'], bins=30)\n",
    "plt.xlabel('Year')\n",
    "plt.ylabel('Frequency')\n",
    "plt.title('Histogram')\n",
    "plt.show()"
   ]
  },
  {
   "cell_type": "code",
   "execution_count": 709,
   "id": "40480750-3609-4381-b27e-49d72ca09567",
   "metadata": {},
   "outputs": [
    {
     "data": {
      "image/png": "[encoded data removed]",
      "text/plain": [
       "<Figure size 640x480 with 1 Axes>"
      ]
     },
     "metadata": {},
     "output_type": "display_data"
    }
   ],
   "source": [
    "df_pandas = df.select('brand').toPandas()\n",
    "\n",
    "plt.hist(df_pandas['brand'], bins=30)\n",
    "plt.xlabel('Brand')\n",
    "plt.ylabel('Frequency')\n",
    "plt.title('Histogram')\n",
    "plt.show()\n"
   ]
  },
  {
   "cell_type": "code",
   "execution_count": 710,
   "id": "71cc2c48-6b57-46dd-b643-980632f6120e",
   "metadata": {},
   "outputs": [
    {
     "name": "stdout",
     "output_type": "stream",
     "text": [
      "+----------+-----------------+----+------------+-----+--------+\n",
      "|     brand|         bodyType|year|transmission|power|fuelType|\n",
      "+----------+-----------------+----+------------+-----+--------+\n",
      "|     Honda|     jeep 5 doors|1997|          AT|  130|Gasoline|\n",
      "|    Toyota|     jeep 5 doors|2011|          AT|  160|Gasoline|\n",
      "|    Nissan|            sedan|2014|          AT|  102|Gasoline|\n",
      "|    Subaru|     jeep 5 doors|2012|         CVT|  150|Gasoline|\n",
      "| SsangYong|     jeep 5 doors|2007|          AT|  150|Gasoline|\n",
      "|    Toyota|     jeep 5 doors|2013|          AT|  163|Gasoline|\n",
      "|Mitsubishi|     jeep 5 doors|2015|          AT|  118|Gasoline|\n",
      "|     Lexus|     jeep 5 doors|2003|          AT|  230|Gasoline|\n",
      "|    Suzuki|     jeep 3 doors|2005|          AT|   64|Gasoline|\n",
      "|     Honda|            sedan|1999|          AT|  148|Gasoline|\n",
      "|    Subaru|    station wagon|1997|      Manual|  135|Gasoline|\n",
      "|    Subaru|    station wagon|2002|          AT|  260|Gasoline|\n",
      "|    Toyota|            sedan|1995|          AT|  135|Gasoline|\n",
      "|    Nissan|           pickup|1989|      Manual|   85|  Diesel|\n",
      "|    Toyota|     jeep 5 doors|2003|          AT|  249|Gasoline|\n",
      "|    Nissan|            sedan|2004|          AT|  280|Gasoline|\n",
      "|    Toyota|     jeep 5 doors|1989|          AT|  165|  Diesel|\n",
      "|    Toyota|            sedan|2010|         CVT|  105|Gasoline|\n",
      "|    Nissan|            sedan|1997|          AT|  200|Gasoline|\n",
      "|     Mazda|hatchback 5 doors|2008|          AT|   91|Gasoline|\n",
      "+----------+-----------------+----+------------+-----+--------+\n",
      "only showing top 20 rows\n",
      "\n"
     ]
    }
   ],
   "source": [
    "df.show()"
   ]
  },
  {
   "cell_type": "code",
   "execution_count": 711,
   "id": "1b492af9-500c-4262-9119-1dfea6f86539",
   "metadata": {},
   "outputs": [
    {
     "name": "stdout",
     "output_type": "stream",
     "text": [
      "+----------+-----------------+----+------------+-----+--------+-------------+\n",
      "|     brand|         bodyType|year|transmission|power|fuelType|brandd_indexx|\n",
      "+----------+-----------------+----+------------+-----+--------+-------------+\n",
      "|     Honda|     jeep 5 doors|1997|          AT|  130|Gasoline|          3.0|\n",
      "|    Toyota|     jeep 5 doors|2011|          AT|  160|Gasoline|          0.0|\n",
      "|    Nissan|            sedan|2014|          AT|  102|Gasoline|          1.0|\n",
      "|    Subaru|     jeep 5 doors|2012|         CVT|  150|Gasoline|          4.0|\n",
      "| SsangYong|     jeep 5 doors|2007|          AT|  150|Gasoline|         24.0|\n",
      "|    Toyota|     jeep 5 doors|2013|          AT|  163|Gasoline|          0.0|\n",
      "|Mitsubishi|     jeep 5 doors|2015|          AT|  118|Gasoline|          2.0|\n",
      "|     Lexus|     jeep 5 doors|2003|          AT|  230|Gasoline|          6.0|\n",
      "|    Suzuki|     jeep 3 doors|2005|          AT|   64|Gasoline|          5.0|\n",
      "|     Honda|            sedan|1999|          AT|  148|Gasoline|          3.0|\n",
      "|    Subaru|    station wagon|1997|      Manual|  135|Gasoline|          4.0|\n",
      "|    Subaru|    station wagon|2002|          AT|  260|Gasoline|          4.0|\n",
      "|    Toyota|            sedan|1995|          AT|  135|Gasoline|          0.0|\n",
      "|    Nissan|           pickup|1989|      Manual|   85|  Diesel|          1.0|\n",
      "|    Toyota|     jeep 5 doors|2003|          AT|  249|Gasoline|          0.0|\n",
      "|    Nissan|            sedan|2004|          AT|  280|Gasoline|          1.0|\n",
      "|    Toyota|     jeep 5 doors|1989|          AT|  165|  Diesel|          0.0|\n",
      "|    Toyota|            sedan|2010|         CVT|  105|Gasoline|          0.0|\n",
      "|    Nissan|            sedan|1997|          AT|  200|Gasoline|          1.0|\n",
      "|     Mazda|hatchback 5 doors|2008|          AT|   91|Gasoline|          7.0|\n",
      "+----------+-----------------+----+------------+-----+--------+-------------+\n",
      "only showing top 20 rows\n",
      "\n"
     ]
    }
   ],
   "source": [
    "from pyspark.ml.feature import StringIndexer\n",
    "stringIndexer = StringIndexer(inputCol=\"brand\", outputCol=\"brandd_indexx\")\n",
    "indexerModel = stringIndexer.fit(df)\n",
    "\n",
    "df = indexerModel.transform(df)\n",
    "df.show()"
   ]
  },
  {
   "cell_type": "code",
   "execution_count": 712,
   "id": "e4cff398-7293-4d82-88f4-d9c2fb1cd4af",
   "metadata": {},
   "outputs": [
    {
     "name": "stdout",
     "output_type": "stream",
     "text": [
      "+----------+-----------------+----+------------+-----+--------+-------------+\n",
      "|     brand|         bodyType|year|transmission|power|fuelType|brandd_indexx|\n",
      "+----------+-----------------+----+------------+-----+--------+-------------+\n",
      "|     Honda|     jeep 5 doors|1997|          AT|  130|Gasoline|            3|\n",
      "|    Toyota|     jeep 5 doors|2011|          AT|  160|Gasoline|            0|\n",
      "|    Nissan|            sedan|2014|          AT|  102|Gasoline|            1|\n",
      "|    Subaru|     jeep 5 doors|2012|         CVT|  150|Gasoline|            4|\n",
      "| SsangYong|     jeep 5 doors|2007|          AT|  150|Gasoline|           24|\n",
      "|    Toyota|     jeep 5 doors|2013|          AT|  163|Gasoline|            0|\n",
      "|Mitsubishi|     jeep 5 doors|2015|          AT|  118|Gasoline|            2|\n",
      "|     Lexus|     jeep 5 doors|2003|          AT|  230|Gasoline|            6|\n",
      "|    Suzuki|     jeep 3 doors|2005|          AT|   64|Gasoline|            5|\n",
      "|     Honda|            sedan|1999|          AT|  148|Gasoline|            3|\n",
      "|    Subaru|    station wagon|1997|      Manual|  135|Gasoline|            4|\n",
      "|    Subaru|    station wagon|2002|          AT|  260|Gasoline|            4|\n",
      "|    Toyota|            sedan|1995|          AT|  135|Gasoline|            0|\n",
      "|    Nissan|           pickup|1989|      Manual|   85|  Diesel|            1|\n",
      "|    Toyota|     jeep 5 doors|2003|          AT|  249|Gasoline|            0|\n",
      "|    Nissan|            sedan|2004|          AT|  280|Gasoline|            1|\n",
      "|    Toyota|     jeep 5 doors|1989|          AT|  165|  Diesel|            0|\n",
      "|    Toyota|            sedan|2010|         CVT|  105|Gasoline|            0|\n",
      "|    Nissan|            sedan|1997|          AT|  200|Gasoline|            1|\n",
      "|     Mazda|hatchback 5 doors|2008|          AT|   91|Gasoline|            7|\n",
      "+----------+-----------------+----+------------+-----+--------+-------------+\n",
      "only showing top 20 rows\n",
      "\n"
     ]
    }
   ],
   "source": [
    "from pyspark.sql.functions import col\n",
    "\n",
    "df = df.withColumn(\"brandd_indexx\", col(\"brandd_indexx\").cast(\"integer\"))\n",
    "\n",
    "df.show()"
   ]
  },
  {
   "cell_type": "code",
   "execution_count": 713,
   "id": "83c26c10-3650-42bf-8314-a4a7b519db1b",
   "metadata": {},
   "outputs": [
    {
     "name": "stdout",
     "output_type": "stream",
     "text": [
      "+--------+-----+\n",
      "|fuelType|count|\n",
      "+--------+-----+\n",
      "|Gasoline| 1254|\n",
      "|  Diesel|  179|\n",
      "+--------+-----+\n",
      "\n"
     ]
    }
   ],
   "source": [
    "# Question 1: What are the most common fuel types used in the vehicles listed in the dataset?\n",
    "from pyspark.sql.functions import col, count, desc\n",
    "\n",
    "fuel_type_counts = df.groupBy(\"fuelType\").agg(count(\"*\").alias(\"count\"))\n",
    "most_common_fuel_types = fuel_type_counts.orderBy(desc(\"count\"))\n",
    "\n",
    "most_common_fuel_types.show()"
   ]
  },
  {
   "cell_type": "code",
   "execution_count": 714,
   "id": "d13e5d15-b2ca-4810-9a3d-3ccd4a1f36da",
   "metadata": {},
   "outputs": [
    {
     "name": "stdout",
     "output_type": "stream",
     "text": [
      "+-------------+-----+\n",
      "|        brand|count|\n",
      "+-------------+-----+\n",
      "|       Toyota|  525|\n",
      "|       Nissan|  157|\n",
      "|   Mitsubishi|  129|\n",
      "|        Honda|  122|\n",
      "|       Subaru|  118|\n",
      "|       Suzuki|   89|\n",
      "|        Lexus|   56|\n",
      "|        Mazda|   38|\n",
      "|Mercedes-Benz|   26|\n",
      "|         Lada|   22|\n",
      "|     Daihatsu|   20|\n",
      "|          Kia|   13|\n",
      "|         Ford|   13|\n",
      "|     Infiniti|   12|\n",
      "|        Isuzu|   12|\n",
      "|          BMW|   11|\n",
      "|          UAZ|   11|\n",
      "|         Jeep|    7|\n",
      "|      Hyundai|    7|\n",
      "|    Chevrolet|    5|\n",
      "+-------------+-----+\n",
      "only showing top 20 rows\n",
      "\n",
      "+----------+-----------------+-----+\n",
      "|     brand|         bodyType|count|\n",
      "+----------+-----------------+-----+\n",
      "|    Nissan|           pickup|    7|\n",
      "|    Nissan|     jeep 5 doors|   53|\n",
      "|    Subaru|     jeep 5 doors|   38|\n",
      "|     Honda|     jeep 3 doors|    7|\n",
      "|    Subaru|    station wagon|   35|\n",
      "|    Subaru|          minivan|    1|\n",
      "|    Toyota|            sedan|  156|\n",
      "|     Honda|          minivan|   13|\n",
      "|     Honda|            coupe|    1|\n",
      "|    Toyota|    station wagon|   64|\n",
      "|    Nissan|    station wagon|   21|\n",
      "|    Toyota|            coupe|    4|\n",
      "|     Honda|     jeep 5 doors|   31|\n",
      "|    Toyota|           pickup|   12|\n",
      "|Mitsubishi|hatchback 5 doors|    2|\n",
      "|     Honda|         liftback|    2|\n",
      "|Mitsubishi|    station wagon|    7|\n",
      "|    Nissan|            coupe|    4|\n",
      "|Mitsubishi|           pickup|    3|\n",
      "|    Nissan|hatchback 5 doors|   10|\n",
      "+----------+-----------------+-----+\n",
      "only showing top 20 rows\n",
      "\n"
     ]
    }
   ],
   "source": [
    "# Question 2: Which brands are most frequently represented in the dataset, and what is the distribution of body types among those brands?\n",
    "brand_counts = df.groupBy(\"brand\").agg(count(\"*\").alias(\"count\"))\n",
    "most_frequent_brands = brand_counts.orderBy(desc(\"count\"))\n",
    "\n",
    "most_frequent_brands.show()\n",
    "\n",
    "body_type_distribution = df.filter(col(\"brand\").isin([row.brand for row in most_frequent_brands.limit(5).collect()])) \\\n",
    "    .groupBy(\"brand\", \"bodyType\").agg(count(\"*\").alias(\"count\"))\n",
    "\n",
    "body_type_distribution.show()"
   ]
  },
  {
   "cell_type": "code",
   "execution_count": 715,
   "id": "377012c0-0940-4bf2-a233-2c962fd2f957",
   "metadata": {},
   "outputs": [
    {
     "name": "stdout",
     "output_type": "stream",
     "text": [
      "+------------+----+-----+\n",
      "|transmission|year|count|\n",
      "+------------+----+-----+\n",
      "|          AT|2014|   12|\n",
      "|      Manual|2004|    3|\n",
      "|      Manual|1964|    1|\n",
      "|          AT|1987|    1|\n",
      "|          AT|1997|   67|\n",
      "|         CVT|2015|   23|\n",
      "|         CVT|2000|    4|\n",
      "|      Manual|2011|    5|\n",
      "|      Manual|1995|   11|\n",
      "|          AT|1986|    2|\n",
      "|      Manual|2001|    3|\n",
      "|          AT|2017|   11|\n",
      "|          AT|1981|    1|\n",
      "|      Manual|2000|   11|\n",
      "|      Manual|2012|    5|\n",
      "|          AT|1990|   10|\n",
      "|      Manual|1997|   20|\n",
      "|         CVT|2002|    6|\n",
      "|      Manual|2020|    1|\n",
      "|      Manual|1983|    3|\n",
      "+------------+----+-----+\n",
      "only showing top 20 rows\n",
      "\n"
     ]
    }
   ],
   "source": [
    "# Question 3: Is there a relationship between the transmission type and the production year of the vehicles in terms of their frequency?\n",
    "transmission_year_counts = df.groupBy(\"transmission\", \"year\").agg(count(\"*\").alias(\"count\"))\n",
    "\n",
    "transmission_year_counts.show()"
   ]
  },
  {
   "cell_type": "code",
   "execution_count": 716,
   "id": "776e36a1-680e-4808-8a73-18d3705bd83f",
   "metadata": {},
   "outputs": [],
   "source": [
    "#decision tree model1\n",
    "from pyspark.ml.feature import StringIndexer, VectorAssembler\n",
    "from pyspark.ml.classification import DecisionTreeClassifier\n",
    "from pyspark.ml.evaluation import MulticlassClassificationEvaluator"
   ]
  },
  {
   "cell_type": "code",
   "execution_count": 717,
   "id": "d33531cf-baa4-48b8-b893-989fc66ab216",
   "metadata": {},
   "outputs": [],
   "source": [
    "# Index String Columns (if any)\n",
    "# Assuming 'brand' and 'transmission' are string columns, if not skip this part\n",
    "indexers = [\n",
    "    StringIndexer(inputCol=column, outputCol=column+\"_index\").fit(df) \n",
    "    for column in ['brand', 'bodyType', 'transmission']\n",
    "]\n",
    "# Apply StringIndexer to DataFrame\n",
    "for indexer in indexers:\n",
    "    df = indexer.transform(df)"
   ]
  },
  {
   "cell_type": "code",
   "execution_count": 718,
   "id": "add015a6-3e86-4059-b588-98a12a829318",
   "metadata": {},
   "outputs": [],
   "source": [
    "\n",
    "# Assemble Features\n",
    "# Exclude the label column 'fuelType' and use the indexed columns if applicable\n",
    "assembler = VectorAssembler(\n",
    "    inputCols=['brand_index', 'bodyType_index', 'transmission_index', 'year'], \n",
    "    outputCol='features'\n",
    ")\n",
    "\n",
    "df = assembler.transform(df)\n",
    "# Prepare final DataFrame for training\n",
    "final_df = df.select('features', 'fuelType')\n"
   ]
  },
  {
   "cell_type": "code",
   "execution_count": 719,
   "id": "013ebceb-45ff-4718-bb23-23f30b05af89",
   "metadata": {},
   "outputs": [],
   "source": [
    "final_df = df.select('features', 'fuelType')\n",
    "\n",
    "# Index the label column\n",
    "label_indexer = StringIndexer(inputCol='fuelType', outputCol='label').fit(final_df)\n",
    "final_df = label_indexer.transform(final_df)\n",
    "\n",
    "train_df, test_df = final_df.randomSplit([0.8, 0.2], seed=42)\n"
   ]
  },
  {
   "cell_type": "code",
   "execution_count": 720,
   "id": "fb1f863b-1436-41f1-b839-0a775b8581af",
   "metadata": {},
   "outputs": [],
   "source": [
    "\n",
    "\n",
    "# Train Decision Tree Classifier with increased maxBins\n",
    "dt = DecisionTreeClassifier(labelCol='label', featuresCol='features', impurity='entropy', maxBins=40)\n",
    "dt_model = dt.fit(train_df)\n",
    "\n",
    "# Predict on test data\n",
    "predictions = dt_model.transform(test_df)"
   ]
  },
  {
   "cell_type": "code",
   "execution_count": 721,
   "id": "3ff997f9-fd8d-4656-a022-9fc87b8a6643",
   "metadata": {},
   "outputs": [
    {
     "name": "stdout",
     "output_type": "stream",
     "text": [
      "Accuracy: 0.9068825910931174\n"
     ]
    }
   ],
   "source": [
    "evaluator = MulticlassClassificationEvaluator(labelCol='label', predictionCol='prediction', metricName='accuracy')\n",
    "accuracy = evaluator.evaluate(predictions)\n",
    "print(f\"Accuracy: {accuracy}\")"
   ]
  },
  {
   "cell_type": "code",
   "execution_count": null,
   "id": "38276a7b-cb17-4d61-9559-6c8a36434c9d",
   "metadata": {},
   "outputs": [],
   "source": []
  },
  {
   "cell_type": "code",
   "execution_count": 722,
   "id": "b0952060-72e4-4699-a089-03ceb11d159f",
   "metadata": {},
   "outputs": [
    {
     "name": "stdout",
     "output_type": "stream",
     "text": [
      "Requirement already satisfied: pyspark in c:\\users\\aldawlia\\anaconda3\\envs\\envname\\lib\\site-packages (3.5.1)\n",
      "Requirement already satisfied: pandas in c:\\users\\aldawlia\\anaconda3\\envs\\envname\\lib\\site-packages (2.1.4)\n",
      "Requirement already satisfied: scikit-learn in c:\\users\\aldawlia\\anaconda3\\envs\\envname\\lib\\site-packages (1.3.0)\n",
      "Requirement already satisfied: py4j==0.10.9.7 in c:\\users\\aldawlia\\anaconda3\\envs\\envname\\lib\\site-packages (from pyspark) (0.10.9.7)\n",
      "Requirement already satisfied: numpy<2,>=1.26.0 in c:\\users\\aldawlia\\anaconda3\\envs\\envname\\lib\\site-packages (from pandas) (1.26.4)\n",
      "Requirement already satisfied: python-dateutil>=2.8.2 in c:\\users\\aldawlia\\anaconda3\\envs\\envname\\lib\\site-packages (from pandas) (2.8.2)\n",
      "Requirement already satisfied: pytz>=2020.1 in c:\\users\\aldawlia\\anaconda3\\envs\\envname\\lib\\site-packages (from pandas) (2023.3.post1)\n",
      "Requirement already satisfied: tzdata>=2022.1 in c:\\users\\aldawlia\\anaconda3\\envs\\envname\\lib\\site-packages (from pandas) (2023.3)\n",
      "Requirement already satisfied: scipy>=1.5.0 in c:\\users\\aldawlia\\anaconda3\\envs\\envname\\lib\\site-packages (from scikit-learn) (1.11.3)\n",
      "Requirement already satisfied: joblib>=1.1.1 in c:\\users\\aldawlia\\anaconda3\\envs\\envname\\lib\\site-packages (from scikit-learn) (1.2.0)\n",
      "Requirement already satisfied: threadpoolctl>=2.0.0 in c:\\users\\aldawlia\\anaconda3\\envs\\envname\\lib\\site-packages (from scikit-learn) (2.2.0)\n",
      "Requirement already satisfied: six>=1.5 in c:\\users\\aldawlia\\anaconda3\\envs\\envname\\lib\\site-packages (from python-dateutil>=2.8.2->pandas) (1.16.0)\n"
     ]
    }
   ],
   "source": [
    "#KNN\n",
    "!pip install pyspark pandas scikit-learn\n"
   ]
  },
  {
   "cell_type": "code",
   "execution_count": 723,
   "id": "161a65e8-8c31-46a6-b78f-44e88b6fcec2",
   "metadata": {},
   "outputs": [],
   "source": [
    "from sklearn.neighbors import KNeighborsClassifier\n",
    "from sklearn.metrics import accuracy_score, confusion_matrix\n",
    "import pandas as pd\n",
    "import seaborn as sns\n",
    "import matplotlib.pyplot as plt"
   ]
  },
  {
   "cell_type": "code",
   "execution_count": null,
   "id": "1635d21a-54e3-47d6-bd41-17a2a15c35f9",
   "metadata": {},
   "outputs": [],
   "source": []
  },
  {
   "cell_type": "code",
   "execution_count": null,
   "id": "3231f97f-7f72-46a2-815e-39eff0e1a1f6",
   "metadata": {},
   "outputs": [],
   "source": []
  },
  {
   "cell_type": "code",
   "execution_count": 724,
   "id": "ffbd085c-616d-44a4-8e28-af630d950b64",
   "metadata": {},
   "outputs": [],
   "source": [
    "final_df = df.select('features', 'fuelType')\n",
    "\n",
    "label_indexer = StringIndexer(inputCol='fuelType', outputCol='label').fit(final_df)\n",
    "final_df = label_indexer.transform(final_df)\n",
    "\n",
    "train_df, test_df = final_df.randomSplit([0.8, 0.2], seed=42)\n",
    "\n",
    "train_pd = train_df.toPandas()\n",
    "test_pd = test_df.toPandas()\n",
    "\n"
   ]
  },
  {
   "cell_type": "code",
   "execution_count": 725,
   "id": "4ece15a4-e911-406f-96f8-8c9ffb60b35a",
   "metadata": {},
   "outputs": [],
   "source": [
    "x_train = list(train_pd['features'])\n",
    "y_train = train_pd['label']\n",
    "x_test = list(test_pd['features'])\n",
    "y_test = test_pd['label']"
   ]
  },
  {
   "cell_type": "code",
   "execution_count": 726,
   "id": "09e8f7ec-367c-47ea-a7bd-55b755cae325",
   "metadata": {},
   "outputs": [
    {
     "name": "stdout",
     "output_type": "stream",
     "text": [
      "Accuracy: 0.8744939271255061\n"
     ]
    }
   ],
   "source": [
    "import numpy as np\n",
    "x_train = np.array([np.array(x) for x in x_train])\n",
    "x_test = np.array([np.array(x) for x in x_test])\n",
    "\n",
    "knn = KNeighborsClassifier(n_neighbors=3)\n",
    "knn.fit(x_train, y_train)\n",
    "pred = knn.predict(x_test)\n",
    "accuracy = accuracy_score(y_test, pred)\n",
    "print(\"Accuracy:\", accuracy)"
   ]
  },
  {
   "cell_type": "code",
   "execution_count": 735,
   "id": "af7b3f19-4c64-4f0f-841a-4938d37122b8",
   "metadata": {
    "scrolled": true
   },
   "outputs": [
    {
     "ename": "Py4JJavaError",
     "evalue": "An error occurred while calling o54088.fit.\n: org.apache.spark.SparkException: Input column Country does not exist.\r\n\tat org.apache.spark.ml.feature.StringIndexerBase.$anonfun$validateAndTransformSchema$2(StringIndexer.scala:128)\r\n\tat scala.collection.TraversableLike.$anonfun$flatMap$1(TraversableLike.scala:293)\r\n\tat scala.collection.IndexedSeqOptimized.foreach(IndexedSeqOptimized.scala:36)\r\n\tat scala.collection.IndexedSeqOptimized.foreach$(IndexedSeqOptimized.scala:33)\r\n\tat scala.collection.mutable.ArrayOps$ofRef.foreach(ArrayOps.scala:198)\r\n\tat scala.collection.TraversableLike.flatMap(TraversableLike.scala:293)\r\n\tat scala.collection.TraversableLike.flatMap$(TraversableLike.scala:290)\r\n\tat scala.collection.mutable.ArrayOps$ofRef.flatMap(ArrayOps.scala:198)\r\n\tat org.apache.spark.ml.feature.StringIndexerBase.validateAndTransformSchema(StringIndexer.scala:123)\r\n\tat org.apache.spark.ml.feature.StringIndexerBase.validateAndTransformSchema$(StringIndexer.scala:115)\r\n\tat org.apache.spark.ml.feature.StringIndexer.validateAndTransformSchema(StringIndexer.scala:145)\r\n\tat org.apache.spark.ml.feature.StringIndexer.transformSchema(StringIndexer.scala:252)\r\n\tat org.apache.spark.ml.PipelineStage.transformSchema(Pipeline.scala:71)\r\n\tat org.apache.spark.ml.feature.StringIndexer.fit(StringIndexer.scala:237)\r\n\tat org.apache.spark.ml.feature.StringIndexer.fit(StringIndexer.scala:145)\r\n\tat jdk.internal.reflect.GeneratedMethodAccessor157.invoke(Unknown Source)\r\n\tat java.base/jdk.internal.reflect.DelegatingMethodAccessorImpl.invoke(DelegatingMethodAccessorImpl.java:43)\r\n\tat java.base/java.lang.reflect.Method.invoke(Method.java:566)\r\n\tat py4j.reflection.MethodInvoker.invoke(MethodInvoker.java:244)\r\n\tat py4j.reflection.ReflectionEngine.invoke(ReflectionEngine.java:374)\r\n\tat py4j.Gateway.invoke(Gateway.java:282)\r\n\tat py4j.commands.AbstractCommand.invokeMethod(AbstractCommand.java:132)\r\n\tat py4j.commands.CallCommand.execute(CallCommand.java:79)\r\n\tat py4j.ClientServerConnection.waitForCommands(ClientServerConnection.java:182)\r\n\tat py4j.ClientServerConnection.run(ClientServerConnection.java:106)\r\n\tat java.base/java.lang.Thread.run(Thread.java:834)\r\n",
     "output_type": "error",
     "traceback": [
      "\u001b[1;31m---------------------------------------------------------------------------\u001b[0m",
      "\u001b[1;31mPy4JJavaError\u001b[0m                             Traceback (most recent call last)",
      "Cell \u001b[1;32mIn[735], line 6\u001b[0m\n\u001b[0;32m      1\u001b[0m \u001b[38;5;66;03m#KMean model3\u001b[39;00m\n\u001b[0;32m      3\u001b[0m pipeline \u001b[38;5;241m=\u001b[39m Pipeline(stages\u001b[38;5;241m=\u001b[39mindexers \u001b[38;5;241m+\u001b[39m [assembler])\n\u001b[1;32m----> 6\u001b[0m data \u001b[38;5;241m=\u001b[39m pipeline\u001b[38;5;241m.\u001b[39mfit(df)\u001b[38;5;241m.\u001b[39mtransform(df)\n\u001b[0;32m      8\u001b[0m \u001b[38;5;66;03m# Select features\u001b[39;00m\n\u001b[0;32m      9\u001b[0m data \u001b[38;5;241m=\u001b[39m data\u001b[38;5;241m.\u001b[39mselect(col(\u001b[38;5;124m\"\u001b[39m\u001b[38;5;124mfeatures\u001b[39m\u001b[38;5;124m\"\u001b[39m))\n",
      "File \u001b[1;32m~\\anaconda3\\envs\\envname\\Lib\\site-packages\\pyspark\\ml\\base.py:205\u001b[0m, in \u001b[0;36mEstimator.fit\u001b[1;34m(self, dataset, params)\u001b[0m\n\u001b[0;32m    203\u001b[0m         \u001b[38;5;28;01mreturn\u001b[39;00m \u001b[38;5;28mself\u001b[39m\u001b[38;5;241m.\u001b[39mcopy(params)\u001b[38;5;241m.\u001b[39m_fit(dataset)\n\u001b[0;32m    204\u001b[0m     \u001b[38;5;28;01melse\u001b[39;00m:\n\u001b[1;32m--> 205\u001b[0m         \u001b[38;5;28;01mreturn\u001b[39;00m \u001b[38;5;28mself\u001b[39m\u001b[38;5;241m.\u001b[39m_fit(dataset)\n\u001b[0;32m    206\u001b[0m \u001b[38;5;28;01melse\u001b[39;00m:\n\u001b[0;32m    207\u001b[0m     \u001b[38;5;28;01mraise\u001b[39;00m \u001b[38;5;167;01mTypeError\u001b[39;00m(\n\u001b[0;32m    208\u001b[0m         \u001b[38;5;124m\"\u001b[39m\u001b[38;5;124mParams must be either a param map or a list/tuple of param maps, \u001b[39m\u001b[38;5;124m\"\u001b[39m\n\u001b[0;32m    209\u001b[0m         \u001b[38;5;124m\"\u001b[39m\u001b[38;5;124mbut got \u001b[39m\u001b[38;5;132;01m%s\u001b[39;00m\u001b[38;5;124m.\u001b[39m\u001b[38;5;124m\"\u001b[39m \u001b[38;5;241m%\u001b[39m \u001b[38;5;28mtype\u001b[39m(params)\n\u001b[0;32m    210\u001b[0m     )\n",
      "File \u001b[1;32m~\\anaconda3\\envs\\envname\\Lib\\site-packages\\pyspark\\ml\\pipeline.py:134\u001b[0m, in \u001b[0;36mPipeline._fit\u001b[1;34m(self, dataset)\u001b[0m\n\u001b[0;32m    132\u001b[0m     dataset \u001b[38;5;241m=\u001b[39m stage\u001b[38;5;241m.\u001b[39mtransform(dataset)\n\u001b[0;32m    133\u001b[0m \u001b[38;5;28;01melse\u001b[39;00m:  \u001b[38;5;66;03m# must be an Estimator\u001b[39;00m\n\u001b[1;32m--> 134\u001b[0m     model \u001b[38;5;241m=\u001b[39m stage\u001b[38;5;241m.\u001b[39mfit(dataset)\n\u001b[0;32m    135\u001b[0m     transformers\u001b[38;5;241m.\u001b[39mappend(model)\n\u001b[0;32m    136\u001b[0m     \u001b[38;5;28;01mif\u001b[39;00m i \u001b[38;5;241m<\u001b[39m indexOfLastEstimator:\n",
      "File \u001b[1;32m~\\anaconda3\\envs\\envname\\Lib\\site-packages\\pyspark\\ml\\base.py:205\u001b[0m, in \u001b[0;36mEstimator.fit\u001b[1;34m(self, dataset, params)\u001b[0m\n\u001b[0;32m    203\u001b[0m         \u001b[38;5;28;01mreturn\u001b[39;00m \u001b[38;5;28mself\u001b[39m\u001b[38;5;241m.\u001b[39mcopy(params)\u001b[38;5;241m.\u001b[39m_fit(dataset)\n\u001b[0;32m    204\u001b[0m     \u001b[38;5;28;01melse\u001b[39;00m:\n\u001b[1;32m--> 205\u001b[0m         \u001b[38;5;28;01mreturn\u001b[39;00m \u001b[38;5;28mself\u001b[39m\u001b[38;5;241m.\u001b[39m_fit(dataset)\n\u001b[0;32m    206\u001b[0m \u001b[38;5;28;01melse\u001b[39;00m:\n\u001b[0;32m    207\u001b[0m     \u001b[38;5;28;01mraise\u001b[39;00m \u001b[38;5;167;01mTypeError\u001b[39;00m(\n\u001b[0;32m    208\u001b[0m         \u001b[38;5;124m\"\u001b[39m\u001b[38;5;124mParams must be either a param map or a list/tuple of param maps, \u001b[39m\u001b[38;5;124m\"\u001b[39m\n\u001b[0;32m    209\u001b[0m         \u001b[38;5;124m\"\u001b[39m\u001b[38;5;124mbut got \u001b[39m\u001b[38;5;132;01m%s\u001b[39;00m\u001b[38;5;124m.\u001b[39m\u001b[38;5;124m\"\u001b[39m \u001b[38;5;241m%\u001b[39m \u001b[38;5;28mtype\u001b[39m(params)\n\u001b[0;32m    210\u001b[0m     )\n",
      "File \u001b[1;32m~\\anaconda3\\envs\\envname\\Lib\\site-packages\\pyspark\\ml\\wrapper.py:381\u001b[0m, in \u001b[0;36mJavaEstimator._fit\u001b[1;34m(self, dataset)\u001b[0m\n\u001b[0;32m    380\u001b[0m \u001b[38;5;28;01mdef\u001b[39;00m \u001b[38;5;21m_fit\u001b[39m(\u001b[38;5;28mself\u001b[39m, dataset: DataFrame) \u001b[38;5;241m-\u001b[39m\u001b[38;5;241m>\u001b[39m JM:\n\u001b[1;32m--> 381\u001b[0m     java_model \u001b[38;5;241m=\u001b[39m \u001b[38;5;28mself\u001b[39m\u001b[38;5;241m.\u001b[39m_fit_java(dataset)\n\u001b[0;32m    382\u001b[0m     model \u001b[38;5;241m=\u001b[39m \u001b[38;5;28mself\u001b[39m\u001b[38;5;241m.\u001b[39m_create_model(java_model)\n\u001b[0;32m    383\u001b[0m     \u001b[38;5;28;01mreturn\u001b[39;00m \u001b[38;5;28mself\u001b[39m\u001b[38;5;241m.\u001b[39m_copyValues(model)\n",
      "File \u001b[1;32m~\\anaconda3\\envs\\envname\\Lib\\site-packages\\pyspark\\ml\\wrapper.py:378\u001b[0m, in \u001b[0;36mJavaEstimator._fit_java\u001b[1;34m(self, dataset)\u001b[0m\n\u001b[0;32m    375\u001b[0m \u001b[38;5;28;01massert\u001b[39;00m \u001b[38;5;28mself\u001b[39m\u001b[38;5;241m.\u001b[39m_java_obj \u001b[38;5;129;01mis\u001b[39;00m \u001b[38;5;129;01mnot\u001b[39;00m \u001b[38;5;28;01mNone\u001b[39;00m\n\u001b[0;32m    377\u001b[0m \u001b[38;5;28mself\u001b[39m\u001b[38;5;241m.\u001b[39m_transfer_params_to_java()\n\u001b[1;32m--> 378\u001b[0m \u001b[38;5;28;01mreturn\u001b[39;00m \u001b[38;5;28mself\u001b[39m\u001b[38;5;241m.\u001b[39m_java_obj\u001b[38;5;241m.\u001b[39mfit(dataset\u001b[38;5;241m.\u001b[39m_jdf)\n",
      "File \u001b[1;32m~\\anaconda3\\envs\\envname\\Lib\\site-packages\\py4j\\java_gateway.py:1322\u001b[0m, in \u001b[0;36mJavaMember.__call__\u001b[1;34m(self, *args)\u001b[0m\n\u001b[0;32m   1316\u001b[0m command \u001b[38;5;241m=\u001b[39m proto\u001b[38;5;241m.\u001b[39mCALL_COMMAND_NAME \u001b[38;5;241m+\u001b[39m\\\n\u001b[0;32m   1317\u001b[0m     \u001b[38;5;28mself\u001b[39m\u001b[38;5;241m.\u001b[39mcommand_header \u001b[38;5;241m+\u001b[39m\\\n\u001b[0;32m   1318\u001b[0m     args_command \u001b[38;5;241m+\u001b[39m\\\n\u001b[0;32m   1319\u001b[0m     proto\u001b[38;5;241m.\u001b[39mEND_COMMAND_PART\n\u001b[0;32m   1321\u001b[0m answer \u001b[38;5;241m=\u001b[39m \u001b[38;5;28mself\u001b[39m\u001b[38;5;241m.\u001b[39mgateway_client\u001b[38;5;241m.\u001b[39msend_command(command)\n\u001b[1;32m-> 1322\u001b[0m return_value \u001b[38;5;241m=\u001b[39m get_return_value(\n\u001b[0;32m   1323\u001b[0m     answer, \u001b[38;5;28mself\u001b[39m\u001b[38;5;241m.\u001b[39mgateway_client, \u001b[38;5;28mself\u001b[39m\u001b[38;5;241m.\u001b[39mtarget_id, \u001b[38;5;28mself\u001b[39m\u001b[38;5;241m.\u001b[39mname)\n\u001b[0;32m   1325\u001b[0m \u001b[38;5;28;01mfor\u001b[39;00m temp_arg \u001b[38;5;129;01min\u001b[39;00m temp_args:\n\u001b[0;32m   1326\u001b[0m     \u001b[38;5;28;01mif\u001b[39;00m \u001b[38;5;28mhasattr\u001b[39m(temp_arg, \u001b[38;5;124m\"\u001b[39m\u001b[38;5;124m_detach\u001b[39m\u001b[38;5;124m\"\u001b[39m):\n",
      "File \u001b[1;32m~\\anaconda3\\envs\\envname\\Lib\\site-packages\\pyspark\\errors\\exceptions\\captured.py:179\u001b[0m, in \u001b[0;36mcapture_sql_exception.<locals>.deco\u001b[1;34m(*a, **kw)\u001b[0m\n\u001b[0;32m    177\u001b[0m \u001b[38;5;28;01mdef\u001b[39;00m \u001b[38;5;21mdeco\u001b[39m(\u001b[38;5;241m*\u001b[39ma: Any, \u001b[38;5;241m*\u001b[39m\u001b[38;5;241m*\u001b[39mkw: Any) \u001b[38;5;241m-\u001b[39m\u001b[38;5;241m>\u001b[39m Any:\n\u001b[0;32m    178\u001b[0m     \u001b[38;5;28;01mtry\u001b[39;00m:\n\u001b[1;32m--> 179\u001b[0m         \u001b[38;5;28;01mreturn\u001b[39;00m f(\u001b[38;5;241m*\u001b[39ma, \u001b[38;5;241m*\u001b[39m\u001b[38;5;241m*\u001b[39mkw)\n\u001b[0;32m    180\u001b[0m     \u001b[38;5;28;01mexcept\u001b[39;00m Py4JJavaError \u001b[38;5;28;01mas\u001b[39;00m e:\n\u001b[0;32m    181\u001b[0m         converted \u001b[38;5;241m=\u001b[39m convert_exception(e\u001b[38;5;241m.\u001b[39mjava_exception)\n",
      "File \u001b[1;32m~\\anaconda3\\envs\\envname\\Lib\\site-packages\\py4j\\protocol.py:326\u001b[0m, in \u001b[0;36mget_return_value\u001b[1;34m(answer, gateway_client, target_id, name)\u001b[0m\n\u001b[0;32m    324\u001b[0m value \u001b[38;5;241m=\u001b[39m OUTPUT_CONVERTER[\u001b[38;5;28mtype\u001b[39m](answer[\u001b[38;5;241m2\u001b[39m:], gateway_client)\n\u001b[0;32m    325\u001b[0m \u001b[38;5;28;01mif\u001b[39;00m answer[\u001b[38;5;241m1\u001b[39m] \u001b[38;5;241m==\u001b[39m REFERENCE_TYPE:\n\u001b[1;32m--> 326\u001b[0m     \u001b[38;5;28;01mraise\u001b[39;00m Py4JJavaError(\n\u001b[0;32m    327\u001b[0m         \u001b[38;5;124m\"\u001b[39m\u001b[38;5;124mAn error occurred while calling \u001b[39m\u001b[38;5;132;01m{0}\u001b[39;00m\u001b[38;5;132;01m{1}\u001b[39;00m\u001b[38;5;132;01m{2}\u001b[39;00m\u001b[38;5;124m.\u001b[39m\u001b[38;5;130;01m\\n\u001b[39;00m\u001b[38;5;124m\"\u001b[39m\u001b[38;5;241m.\u001b[39m\n\u001b[0;32m    328\u001b[0m         \u001b[38;5;28mformat\u001b[39m(target_id, \u001b[38;5;124m\"\u001b[39m\u001b[38;5;124m.\u001b[39m\u001b[38;5;124m\"\u001b[39m, name), value)\n\u001b[0;32m    329\u001b[0m \u001b[38;5;28;01melse\u001b[39;00m:\n\u001b[0;32m    330\u001b[0m     \u001b[38;5;28;01mraise\u001b[39;00m Py4JError(\n\u001b[0;32m    331\u001b[0m         \u001b[38;5;124m\"\u001b[39m\u001b[38;5;124mAn error occurred while calling \u001b[39m\u001b[38;5;132;01m{0}\u001b[39;00m\u001b[38;5;132;01m{1}\u001b[39;00m\u001b[38;5;132;01m{2}\u001b[39;00m\u001b[38;5;124m. Trace:\u001b[39m\u001b[38;5;130;01m\\n\u001b[39;00m\u001b[38;5;132;01m{3}\u001b[39;00m\u001b[38;5;130;01m\\n\u001b[39;00m\u001b[38;5;124m\"\u001b[39m\u001b[38;5;241m.\u001b[39m\n\u001b[0;32m    332\u001b[0m         \u001b[38;5;28mformat\u001b[39m(target_id, \u001b[38;5;124m\"\u001b[39m\u001b[38;5;124m.\u001b[39m\u001b[38;5;124m\"\u001b[39m, name, value))\n",
      "\u001b[1;31mPy4JJavaError\u001b[0m: An error occurred while calling o54088.fit.\n: org.apache.spark.SparkException: Input column Country does not exist.\r\n\tat org.apache.spark.ml.feature.StringIndexerBase.$anonfun$validateAndTransformSchema$2(StringIndexer.scala:128)\r\n\tat scala.collection.TraversableLike.$anonfun$flatMap$1(TraversableLike.scala:293)\r\n\tat scala.collection.IndexedSeqOptimized.foreach(IndexedSeqOptimized.scala:36)\r\n\tat scala.collection.IndexedSeqOptimized.foreach$(IndexedSeqOptimized.scala:33)\r\n\tat scala.collection.mutable.ArrayOps$ofRef.foreach(ArrayOps.scala:198)\r\n\tat scala.collection.TraversableLike.flatMap(TraversableLike.scala:293)\r\n\tat scala.collection.TraversableLike.flatMap$(TraversableLike.scala:290)\r\n\tat scala.collection.mutable.ArrayOps$ofRef.flatMap(ArrayOps.scala:198)\r\n\tat org.apache.spark.ml.feature.StringIndexerBase.validateAndTransformSchema(StringIndexer.scala:123)\r\n\tat org.apache.spark.ml.feature.StringIndexerBase.validateAndTransformSchema$(StringIndexer.scala:115)\r\n\tat org.apache.spark.ml.feature.StringIndexer.validateAndTransformSchema(StringIndexer.scala:145)\r\n\tat org.apache.spark.ml.feature.StringIndexer.transformSchema(StringIndexer.scala:252)\r\n\tat org.apache.spark.ml.PipelineStage.transformSchema(Pipeline.scala:71)\r\n\tat org.apache.spark.ml.feature.StringIndexer.fit(StringIndexer.scala:237)\r\n\tat org.apache.spark.ml.feature.StringIndexer.fit(StringIndexer.scala:145)\r\n\tat jdk.internal.reflect.GeneratedMethodAccessor157.invoke(Unknown Source)\r\n\tat java.base/jdk.internal.reflect.DelegatingMethodAccessorImpl.invoke(DelegatingMethodAccessorImpl.java:43)\r\n\tat java.base/java.lang.reflect.Method.invoke(Method.java:566)\r\n\tat py4j.reflection.MethodInvoker.invoke(MethodInvoker.java:244)\r\n\tat py4j.reflection.ReflectionEngine.invoke(ReflectionEngine.java:374)\r\n\tat py4j.Gateway.invoke(Gateway.java:282)\r\n\tat py4j.commands.AbstractCommand.invokeMethod(AbstractCommand.java:132)\r\n\tat py4j.commands.CallCommand.execute(CallCommand.java:79)\r\n\tat py4j.ClientServerConnection.waitForCommands(ClientServerConnection.java:182)\r\n\tat py4j.ClientServerConnection.run(ClientServerConnection.java:106)\r\n\tat java.base/java.lang.Thread.run(Thread.java:834)\r\n"
     ]
    }
   ],
   "source": [
    "#KMean model3\n",
    "\n",
    "pipeline = Pipeline(stages=indexers + [assembler])\n",
    "\n",
    "\n",
    "data = pipeline.fit(df).transform(df)\n",
    "\n",
    "# Select features\n",
    "data = data.select(col(\"features\"))\n",
    "\n",
    "data.show(10)"
   ]
  },
  {
   "cell_type": "code",
   "execution_count": 728,
   "id": "90786968-0121-437d-a509-116971c7e7e3",
   "metadata": {},
   "outputs": [
    {
     "name": "stdout",
     "output_type": "stream",
     "text": [
      "Silhouette with squared Euclidean distance = 0.6427352741102005\n",
      "+--------------------+----------+\n",
      "|          featuresss|prediction|\n",
      "+--------------------+----------+\n",
      "|(5,[0,4],[3.0,199...|         1|\n",
      "|    (5,[4],[2011.0])|         2|\n",
      "|[1.0,1.0,0.0,0.0,...|         2|\n",
      "|[4.0,0.0,1.0,0.0,...|         2|\n",
      "|(5,[0,4],[24.0,20...|         0|\n",
      "|    (5,[4],[2013.0])|         2|\n",
      "|(5,[0,4],[2.0,201...|         2|\n",
      "|(5,[0,4],[6.0,200...|         1|\n",
      "|[5.0,4.0,0.0,0.0,...|         2|\n",
      "|[3.0,1.0,0.0,0.0,...|         1|\n",
      "+--------------------+----------+\n",
      "only showing top 10 rows\n",
      "\n"
     ]
    }
   ],
   "source": [
    "from pyspark.ml.clustering import KMeans\n",
    "from pyspark.ml.evaluation import ClusteringEvaluator\n",
    "\n",
    "kmeans = KMeans(k=3, seed=42, featuresCol=\"featuresss\")\n",
    "kmeans_model = kmeans.fit(data)\n",
    "\n",
    "kmeans_predictions = kmeans_model.transform(data)\n",
    "\n",
    "evaluator = ClusteringEvaluator(featuresCol=\"featuresss\", metricName=\"silhouette\", distanceMeasure=\"squaredEuclidean\")\n",
    "\n",
    "silhouette = evaluator.evaluate(kmeans_predictions)\n",
    "print(f\"Silhouette with squared Euclidean distance = {silhouette}\")\n",
    "\n",
    "kmeans_predictions.show(10)"
   ]
  },
  {
   "cell_type": "code",
   "execution_count": null,
   "id": "339644da-08dd-4531-8fa2-1daff2434fe0",
   "metadata": {},
   "outputs": [],
   "source": []
  },
  {
   "cell_type": "code",
   "execution_count": null,
   "id": "0f60ec5b-dd6a-4c44-a22d-760cda16c66b",
   "metadata": {},
   "outputs": [],
   "source": []
  },
  {
   "cell_type": "code",
   "execution_count": null,
   "id": "888b31bf-fb94-4f8b-b31e-1a4f329fa06c",
   "metadata": {},
   "outputs": [],
   "source": []
  },
  {
   "cell_type": "code",
   "execution_count": null,
   "id": "b292389b-5fb6-4b79-9ffe-71b35745012d",
   "metadata": {},
   "outputs": [],
   "source": []
  },
  {
   "cell_type": "code",
   "execution_count": null,
   "id": "73d31b0e-6017-4a67-a175-0eb63b2cfc69",
   "metadata": {},
   "outputs": [],
   "source": []
  },
  {
   "cell_type": "code",
   "execution_count": null,
   "id": "b06bdee7-0af5-4591-b58c-16ae495f3db1",
   "metadata": {},
   "outputs": [],
   "source": []
  }
 ],
 "metadata": {
  "kernelspec": {
   "display_name": "Python 3 (ipykernel)",
   "language": "python",
   "name": "python3"
  },
  "language_info": {
   "codemirror_mode": {
    "name": "ipython",
    "version": 3
   },
   "file_extension": ".py",
   "mimetype": "text/x-python",
   "name": "python",
   "nbconvert_exporter": "python",
   "pygments_lexer": "ipython3",
   "version": "3.12.7"
  }
 },
 "nbformat": 4,
 "nbformat_minor": 5
}
